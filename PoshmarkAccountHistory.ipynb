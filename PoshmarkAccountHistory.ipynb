{
 "cells": [
  {
   "cell_type": "code",
   "execution_count": 104,
   "metadata": {
    "collapsed": true
   },
   "outputs": [],
   "source": [
    "import pandas as pd\n",
    "import requests\n",
    "import json\n",
    "import time\n",
    "import random\n",
    "import base64\n",
    "from IPython.display import display, HTML\n",
    "from datetime import date\n",
    "\n"
   ]
  },
  {
   "cell_type": "code",
   "execution_count": 105,
   "outputs": [],
   "source": [
    "# Enter the Poshmark Username to be scraped\n",
    "\n",
    "Poshmark_Username = \"chaoscollection\"\n"
   ],
   "metadata": {
    "collapsed": false,
    "pycharm": {
     "name": "#%%\n"
    }
   }
  },
  {
   "cell_type": "code",
   "execution_count": 106,
   "outputs": [
    {
     "name": "stdout",
     "output_type": "stream",
     "text": [
      "chaoscollection\n",
      "Table Size:  2280\n"
     ]
    },
    {
     "data": {
      "text/plain": "<IPython.core.display.HTML object>",
      "text/html": "<a download=\"Poshmark_chaoscollection_19 all items_2022-04-12.csv\" href=\"data:text/csv;base64,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\" target=\"_blank\">Download CSV file</a>"
     },
     "metadata": {},
     "output_type": "display_data"
    }
   ],
   "source": [
    "def ProPoshScraper(pro):\n",
    "    print(pro)\n",
    "    pd.set_option('display.max_columns', 100)\n",
    "\n",
    "    MIN_SLEEP_TIME = 2\n",
    "    page = 1\n",
    "\n",
    "    proUrlBase = \"https://poshmark.com/vm-rest/users/\"\n",
    "    proUsername = pro\n",
    "    proFilter = \"/posts/filtered?request=%7B%22filters%22%3A%7B%22\"\n",
    "    proDepartment = \"department%22%3A%22All%22%2C%22\"\n",
    "    proInventory = \"inventory_status%22%3A%5B%22\"\n",
    "    # all, available, sold_out\n",
    "    Inventory = \"all\"\n",
    "    proURLTail1 = \"%22%5D%7D%2C%22query_and_facet_filters%22%3A%7B%22creator_id%22%3A%22\"\n",
    "    proURLTail2 = \"%22%7D%2C%22experience%22%3A%22all%22%2C%22\"\n",
    "    proMaxID = \"max_id%22%3A\"\n",
    "    MaxIDTail = \"%2C%22\"\n",
    "    proCount = \"count%22%3A\"\n",
    "    proCount2 = 48\n",
    "    proURLTail3 = \"%7D&summarize=true&app_version=2.55&pm_version=129.0.0\"\n",
    "\n",
    "    start_url = proUrlBase + proUsername + proFilter + proDepartment + proInventory + proURLTail1 + proUsername \\\n",
    "                + proURLTail2 + proCount + str(proCount2) + proURLTail3\n",
    "\n",
    "\n",
    "    headers = {\"User-Agent\": \"Mozilla/5.0 (Windows NT 10.0; WOW64) AppleWebKit/537.36 (KHTML, like Gecko) Chrome/\"\n",
    "                             \"58.0.3029.110 Safari/537.36 SE 2.X MetaSr 1.0\"}\n",
    "\n",
    "    proxies = {\"http\": \"http://123.207.96.189:80\"}\n",
    "\n",
    "    def get_table_from_url(url):\n",
    "        response = requests.get(url, proxies=proxies, headers=headers)\n",
    "        if response.status_code != 200:\n",
    "            print(\"Couldn't Connect to Poshmark\")\n",
    "        else:\n",
    "            text = response.text\n",
    "            nested_text = json.loads(text)\n",
    "            # print(nested_text)\n",
    "            if \"statusCode\" in nested_text:\n",
    "                if nested_text[\"statusCode\"] == 404:\n",
    "                    print(\"Couldn't find Poshmark Username\")\n",
    "            elif \"data\" in nested_text:\n",
    "                df_packet = pd.json_normalize(nested_text['data'])\n",
    "                # total_items = more_data['total']\n",
    "                try:\n",
    "                    if 'more' in nested_text:\n",
    "                        more_data = nested_text['more']\n",
    "                        if \"next_max_id\" in more_data:\n",
    "                            NewMaxID = str(more_data['next_max_id'])\n",
    "                            new_url = proUrlBase + proUsername + proFilter + proDepartment + proInventory + proURLTail1 + \\\n",
    "                                      proUsername + proURLTail2 + proMaxID + NewMaxID + MaxIDTail + proCount + \\\n",
    "                                      str(proCount2) + proURLTail3\n",
    "                        else:\n",
    "                            new_url = \"end\"\n",
    "                    else:\n",
    "                        new_url = \"end\"\n",
    "                except:\n",
    "                    new_url = \"end\"\n",
    "\n",
    "                return df_packet, new_url\n",
    "    try:\n",
    "        full_table, next_url = get_table_from_url(start_url)\n",
    "    except:\n",
    "        print(\"Userdata not collected\")\n",
    "\n",
    "    if full_table.size > 0:\n",
    "        print(\"Table Size: \",full_table.size)\n",
    "        while next_url != \"end\":\n",
    "            print(str(page) + \" \" + proUsername + \" \" + str(full_table.shape[0]) + ' items information collected')\n",
    "            table_to_add, next_url = get_table_from_url(next_url)\n",
    "            full_table = pd.concat([full_table, table_to_add])\n",
    "            sleep_time = MIN_SLEEP_TIME + random.random() * 10\n",
    "            time.sleep(int(sleep_time))\n",
    "            page = page + 1\n",
    "\n",
    "        first_columns = ['id','brand','title','department.display','category','category_v2.display',\n",
    "                         'category_v2.slug','first_published_at','condition','price','original_price_amount.val',\n",
    "                         'original_price_amount.currency_code','size_obj.display_with_size_set','size_obj.size_system',\n",
    "                         'picture_url',\n",
    "                         'inventory.status','inventory.status_changed_at']\n",
    "        table_min = full_table[first_columns]\n",
    "\n",
    "        output_name = 'Poshmark_' + \\\n",
    "                      proUsername + \\\n",
    "                      \"_\" + \\\n",
    "                      str(table_min.shape[0]) + \\\n",
    "                      \" \" + \\\n",
    "                      Inventory + \\\n",
    "                      ' items_' + \\\n",
    "                      str(date.today()) + \\\n",
    "                      '.csv'\n",
    "        return table_min,output_name\n",
    "    else:\n",
    "        print(\"No userdata collected\")\n",
    "\n",
    "\n",
    "## https://www.codegrepper.com/code-examples/python/download+csv+file+through+jupyter+notebook\n",
    "def create_download_link( df, file):\n",
    "    title = \"Download CSV file\"\n",
    "    csv = df.to_csv()\n",
    "    b64 = base64.b64encode(csv.encode())\n",
    "    payload = b64.decode()\n",
    "    html = '<a download=\"{filename}\" href=\"data:text/csv;base64,{payload}\" target=\"_blank\">{title}</a>'\n",
    "    html = html.format(payload=payload,title=title,filename=file)\n",
    "    display(HTML(html))\n",
    "    return HTML(html)\n",
    "\n",
    "try:\n",
    "    results, filename = ProPoshScraper(Poshmark_Username)\n",
    "    create_download_link(df=results,file=filename)\n",
    "except:\n",
    "    print(\"No data available for csv output\")"
   ],
   "metadata": {
    "collapsed": false,
    "pycharm": {
     "name": "#%%\n"
    }
   }
  }
 ],
 "metadata": {
  "kernelspec": {
   "display_name": "Python 3",
   "language": "python",
   "name": "python3"
  },
  "language_info": {
   "codemirror_mode": {
    "name": "ipython",
    "version": 2
   },
   "file_extension": ".py",
   "mimetype": "text/x-python",
   "name": "python",
   "nbconvert_exporter": "python",
   "pygments_lexer": "ipython2",
   "version": "2.7.6"
  }
 },
 "nbformat": 4,
 "nbformat_minor": 0
}